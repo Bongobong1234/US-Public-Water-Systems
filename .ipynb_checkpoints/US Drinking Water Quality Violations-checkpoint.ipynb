{
 "cells": [
  {
   "cell_type": "markdown",
   "metadata": {},
   "source": [
    "# US Drinking Water Health-Based Quality Violations\n",
    "\n",
    "The US Environmental Progection Agency EPA is publishing datasets about US water systems through its [envirofacts](https://www3.epa.gov/enviro/) platform. Information about safe drinking water is stored in SDWIS, the EPA's Safe Drinking Water Information System. The [SDWIS](https://www.epa.gov/enviro/sdwis-model) consists of several tables, that can be joined through unique IDs.   \n",
    "\n",
    "The types of violations collected by the EPA are diverse, e.g also procedural violations, but I will concentrate on health-based violations, that are more interesting to me.  \n",
    "\n",
    "In this analysis, I will explore the health-based violations of drinking water quality and try to answer the following questions:\n",
    "\n",
    "1. How many health-based drinking water violations happen per year?\n",
    "2. How many water system are affected by those violations?\n",
    "3. How many people are concernded by those violations?\n",
    "\n",
    "[... say why the datasets and my questions are relevant/important...]"
   ]
  },
  {
   "cell_type": "code",
   "execution_count": 5,
   "metadata": {},
   "outputs": [],
   "source": [
    "# set up the environment:\n",
    "\n",
    "import pandas as pd\n",
    "import numpy as np\n",
    "import requests # to read the data from the REST API of EPA Envirofacts\n",
    "import csv # needed as data accessed through the REST API are .csv (other possibilities are .xml or .xls)\n",
    "\n",
    "import matplotlib.pyplot as plt\n",
    "%matplotlib inline\n",
    "\n",
    "import datetime as dt # to handle the dates in the dataset more easily\n",
    "\n",
    "import seaborn as sns # I want to try seaborn for plotting. It looks to combine well with pandas."
   ]
  },
  {
   "cell_type": "markdown",
   "metadata": {},
   "source": [
    "## Health-Based Violations\n",
    "\n",
    "One table - _VIOLATIONS_ - contains all the violations. According to the EPA, violations are detected by assessment of sample results or reviews (including on site visits). Examples of violations are Maximum Contaminant Level (MCL) violations, failure to replace lead service lines, treatment technique violations, procedural violations... I access the data through [Envirofacts RESTful API](https://www.epa.gov/enviro/web-services). I select only health-based violations.  "
   ]
  },
  {
   "cell_type": "code",
   "execution_count": 6,
   "metadata": {},
   "outputs": [],
   "source": [
    "# read data: (! takes 3min)\n",
    "CSV_URL = 'http://iaspub.epa.gov/enviro/efservice/VIOLATION/IS_HEALTH_BASED_IND/Y/ROWS/0:300000/CSV'\n",
    "# notes on the API:\n",
    "#     - VIOLATION = table\n",
    "#     - IS_HEALTH_BASED_IND/Y ==> select only health-based violations\n",
    "#     - ROWS/0:300000 ==> the default is to extract to first 10'000 rows. I want all rows, so i use a larger number\n",
    "\n",
    "with requests.Session() as s:\n",
    "    download = s.get(CSV_URL)\n",
    "    decoded_content = download.content.decode('utf-8')\n",
    "    cr = csv.reader(decoded_content.splitlines(), delimiter=',')\n",
    "    violations = list(cr)\n",
    "    \n",
    "# create a data frame with the data:\n",
    "violations = pd.DataFrame(violations)\n",
    "new_header = violations.iloc[0] # grab the first row for the header\n",
    "new_header = new_header.str.split('.').str[1] # we remove the redundant table name (VIOLATION) in column names\n",
    "violations = violations[1:] # take the data less the header row\n",
    "violations.columns = new_header # set the header row as the df header\n",
    "# we remove the last column of null, that is an artifact of the extraction:\n",
    "violations = violations.dropna(axis = 1, how='all') # axis = 1 to specify that we talk about the columns"
   ]
  },
  {
   "cell_type": "code",
   "execution_count": 7,
   "metadata": {},
   "outputs": [
    {
     "name": "stdout",
     "output_type": "stream",
     "text": [
      "(249535, 34)\n"
     ]
    },
    {
     "data": {
      "text/html": [
       "<div>\n",
       "<style scoped>\n",
       "    .dataframe tbody tr th:only-of-type {\n",
       "        vertical-align: middle;\n",
       "    }\n",
       "\n",
       "    .dataframe tbody tr th {\n",
       "        vertical-align: top;\n",
       "    }\n",
       "\n",
       "    .dataframe thead th {\n",
       "        text-align: right;\n",
       "    }\n",
       "</style>\n",
       "<table border=\"1\" class=\"dataframe\">\n",
       "  <thead>\n",
       "    <tr style=\"text-align: right;\">\n",
       "      <th></th>\n",
       "      <th>PWSID</th>\n",
       "      <th>VIOLATION_ID</th>\n",
       "      <th>FACILITY_ID</th>\n",
       "      <th>POPULATION_SERVED_COUNT</th>\n",
       "      <th>NPM_CANDIDATE</th>\n",
       "      <th>PWS_ACTIVITY_CODE</th>\n",
       "      <th>PWS_DEACTIVATION_DATE</th>\n",
       "      <th>PRIMARY_SOURCE_CODE</th>\n",
       "      <th>POP_CAT_5_CODE</th>\n",
       "      <th>PRIMACY_AGENCY_CODE</th>\n",
       "      <th>...</th>\n",
       "      <th>LATEST_ENFORCEMENT_ID</th>\n",
       "      <th>RTC_ENFORCEMENT_ID</th>\n",
       "      <th>RTC_DATE</th>\n",
       "      <th>PUBLIC_NOTIFICATION_TIER</th>\n",
       "      <th>ORIGINATOR_CODE</th>\n",
       "      <th>SAMPLE_RESULT_ID</th>\n",
       "      <th>CORRECTIVE_ACTION_ID</th>\n",
       "      <th>RULE_CODE</th>\n",
       "      <th>RULE_GROUP_CODE</th>\n",
       "      <th>RULE_FAMILY_CODE</th>\n",
       "    </tr>\n",
       "  </thead>\n",
       "  <tbody>\n",
       "    <tr>\n",
       "      <th>1</th>\n",
       "      <td>LA1105086</td>\n",
       "      <td>111</td>\n",
       "      <td></td>\n",
       "      <td>108</td>\n",
       "      <td>N</td>\n",
       "      <td>I</td>\n",
       "      <td>30-SEP-15</td>\n",
       "      <td>GW</td>\n",
       "      <td>1</td>\n",
       "      <td>LA</td>\n",
       "      <td>...</td>\n",
       "      <td>539</td>\n",
       "      <td></td>\n",
       "      <td>30-SEP-15</td>\n",
       "      <td>2</td>\n",
       "      <td>S</td>\n",
       "      <td></td>\n",
       "      <td></td>\n",
       "      <td>110</td>\n",
       "      <td>100</td>\n",
       "      <td>110</td>\n",
       "    </tr>\n",
       "    <tr>\n",
       "      <th>2</th>\n",
       "      <td>LA1105086</td>\n",
       "      <td>110</td>\n",
       "      <td></td>\n",
       "      <td>108</td>\n",
       "      <td>N</td>\n",
       "      <td>I</td>\n",
       "      <td>30-SEP-15</td>\n",
       "      <td>GW</td>\n",
       "      <td>1</td>\n",
       "      <td>LA</td>\n",
       "      <td>...</td>\n",
       "      <td>537</td>\n",
       "      <td>521</td>\n",
       "      <td>27-JAN-11</td>\n",
       "      <td>2</td>\n",
       "      <td>S</td>\n",
       "      <td></td>\n",
       "      <td></td>\n",
       "      <td>110</td>\n",
       "      <td>100</td>\n",
       "      <td>110</td>\n",
       "    </tr>\n",
       "    <tr>\n",
       "      <th>3</th>\n",
       "      <td>LA1105096</td>\n",
       "      <td>210</td>\n",
       "      <td></td>\n",
       "      <td>121</td>\n",
       "      <td>N</td>\n",
       "      <td>N</td>\n",
       "      <td>16-FEB-17</td>\n",
       "      <td>GW</td>\n",
       "      <td>1</td>\n",
       "      <td>LA</td>\n",
       "      <td>...</td>\n",
       "      <td>12</td>\n",
       "      <td></td>\n",
       "      <td>16-FEB-17</td>\n",
       "      <td>2</td>\n",
       "      <td>S</td>\n",
       "      <td></td>\n",
       "      <td></td>\n",
       "      <td>110</td>\n",
       "      <td>100</td>\n",
       "      <td>110</td>\n",
       "    </tr>\n",
       "    <tr>\n",
       "      <th>4</th>\n",
       "      <td>LA1107002</td>\n",
       "      <td>8008768</td>\n",
       "      <td>9308</td>\n",
       "      <td>912</td>\n",
       "      <td>N</td>\n",
       "      <td>N</td>\n",
       "      <td>07-OCT-13</td>\n",
       "      <td>SW</td>\n",
       "      <td>2</td>\n",
       "      <td>LA</td>\n",
       "      <td>...</td>\n",
       "      <td>2009942</td>\n",
       "      <td>2009942</td>\n",
       "      <td>15-OCT-13</td>\n",
       "      <td>2</td>\n",
       "      <td>S</td>\n",
       "      <td></td>\n",
       "      <td></td>\n",
       "      <td>210</td>\n",
       "      <td>200</td>\n",
       "      <td>210</td>\n",
       "    </tr>\n",
       "    <tr>\n",
       "      <th>5</th>\n",
       "      <td>LA1107002</td>\n",
       "      <td>8008767</td>\n",
       "      <td>9308</td>\n",
       "      <td>912</td>\n",
       "      <td>N</td>\n",
       "      <td>N</td>\n",
       "      <td>07-OCT-13</td>\n",
       "      <td>SW</td>\n",
       "      <td>2</td>\n",
       "      <td>LA</td>\n",
       "      <td>...</td>\n",
       "      <td>2009942</td>\n",
       "      <td>2009942</td>\n",
       "      <td>15-OCT-13</td>\n",
       "      <td>2</td>\n",
       "      <td>S</td>\n",
       "      <td></td>\n",
       "      <td></td>\n",
       "      <td>210</td>\n",
       "      <td>200</td>\n",
       "      <td>210</td>\n",
       "    </tr>\n",
       "  </tbody>\n",
       "</table>\n",
       "<p>5 rows × 34 columns</p>\n",
       "</div>"
      ],
      "text/plain": [
       "0      PWSID VIOLATION_ID FACILITY_ID POPULATION_SERVED_COUNT NPM_CANDIDATE  \\\n",
       "1  LA1105086          111                                 108             N   \n",
       "2  LA1105086          110                                 108             N   \n",
       "3  LA1105096          210                                 121             N   \n",
       "4  LA1107002      8008768        9308                     912             N   \n",
       "5  LA1107002      8008767        9308                     912             N   \n",
       "\n",
       "0 PWS_ACTIVITY_CODE PWS_DEACTIVATION_DATE PRIMARY_SOURCE_CODE POP_CAT_5_CODE  \\\n",
       "1                 I             30-SEP-15                  GW              1   \n",
       "2                 I             30-SEP-15                  GW              1   \n",
       "3                 N             16-FEB-17                  GW              1   \n",
       "4                 N             07-OCT-13                  SW              2   \n",
       "5                 N             07-OCT-13                  SW              2   \n",
       "\n",
       "0 PRIMACY_AGENCY_CODE  ... LATEST_ENFORCEMENT_ID RTC_ENFORCEMENT_ID  \\\n",
       "1                  LA  ...                   539                      \n",
       "2                  LA  ...                   537                521   \n",
       "3                  LA  ...                    12                      \n",
       "4                  LA  ...               2009942            2009942   \n",
       "5                  LA  ...               2009942            2009942   \n",
       "\n",
       "0   RTC_DATE PUBLIC_NOTIFICATION_TIER ORIGINATOR_CODE SAMPLE_RESULT_ID  \\\n",
       "1  30-SEP-15                        2               S                    \n",
       "2  27-JAN-11                        2               S                    \n",
       "3  16-FEB-17                        2               S                    \n",
       "4  15-OCT-13                        2               S                    \n",
       "5  15-OCT-13                        2               S                    \n",
       "\n",
       "0 CORRECTIVE_ACTION_ID RULE_CODE RULE_GROUP_CODE RULE_FAMILY_CODE  \n",
       "1                            110             100              110  \n",
       "2                            110             100              110  \n",
       "3                            110             100              110  \n",
       "4                            210             200              210  \n",
       "5                            210             200              210  \n",
       "\n",
       "[5 rows x 34 columns]"
      ]
     },
     "execution_count": 7,
     "metadata": {},
     "output_type": "execute_result"
    }
   ],
   "source": [
    "print(violations.shape)\n",
    "violations.head()\n",
    "# violations.IS_HEALTH_BASED_IND.value_counts() # a check."
   ]
  },
  {
   "cell_type": "code",
   "execution_count": 8,
   "metadata": {},
   "outputs": [
    {
     "data": {
      "text/plain": [
       "array(['PWSID', 'VIOLATION_ID', 'FACILITY_ID', 'POPULATION_SERVED_COUNT',\n",
       "       'NPM_CANDIDATE', 'PWS_ACTIVITY_CODE', 'PWS_DEACTIVATION_DATE',\n",
       "       'PRIMARY_SOURCE_CODE', 'POP_CAT_5_CODE', 'PRIMACY_AGENCY_CODE',\n",
       "       'EPA_REGION', 'PWS_TYPE_CODE', 'VIOLATION_CODE',\n",
       "       'VIOLATION_CATEGORY_CODE', 'IS_HEALTH_BASED_IND',\n",
       "       'CONTAMINANT_CODE', 'COMPLIANCE_STATUS_CODE', 'VIOL_MEASURE',\n",
       "       'UNIT_OF_MEASURE', 'STATE_MCL', 'IS_MAJOR_VIOL_IND',\n",
       "       'SEVERITY_IND_CNT', 'COMPL_PER_BEGIN_DATE', 'COMPL_PER_END_DATE',\n",
       "       'LATEST_ENFORCEMENT_ID', 'RTC_ENFORCEMENT_ID', 'RTC_DATE',\n",
       "       'PUBLIC_NOTIFICATION_TIER', 'ORIGINATOR_CODE', 'SAMPLE_RESULT_ID',\n",
       "       'CORRECTIVE_ACTION_ID', 'RULE_CODE', 'RULE_GROUP_CODE',\n",
       "       'RULE_FAMILY_CODE'], dtype=object)"
      ]
     },
     "execution_count": 8,
     "metadata": {},
     "output_type": "execute_result"
    }
   ],
   "source": [
    "# violations.describe()\n",
    "violations.columns.values"
   ]
  },
  {
   "cell_type": "code",
   "execution_count": 9,
   "metadata": {},
   "outputs": [],
   "source": [
    "# violations.dtypes # a check. (later we convert COMPL_PER_BEGIN_DATE to the datetime type)"
   ]
  },
  {
   "cell_type": "code",
   "execution_count": 10,
   "metadata": {},
   "outputs": [
    {
     "name": "stdout",
     "output_type": "stream",
     "text": [
      "Number of rows in dataset: 249535\n",
      "Number of distinct violations IDs: 145411\n"
     ]
    }
   ],
   "source": [
    "# On the contrary to what was expected, the VIOLATION_ID is not a unique identifier:\n",
    "# print(len(violations['PWSID']))\n",
    "# print(len(set(violations['PWSID'])))\n",
    "print(\"Number of rows in dataset: \" + str(len(violations['VIOLATION_ID'])))\n",
    "print(\"Number of distinct violations IDs: \" + str(len(set(violations['VIOLATION_ID']))))\n",
    "# print(len(violations['FACILITY_ID']))\n",
    "# print(len(set(violations['FACILITY_ID'])))\n",
    "\n",
    "# print(violations.set_index(list(violations)).index.is_unique) # but there are no repeated rows.\n",
    "# print(violations.set_index(list(violations)[0:2]).index.is_unique) # combine system and violations to have uniques\n",
    "\n",
    "# ==> the same violation can be present in several water system (PWSID). \n",
    "\n",
    "# # Thus, I create a unique identifier for the dataset:\n",
    "# violations['my_distinct_violations_ID'] = violations['PWSID'] + \"_\" + violations['VIOLATION_ID']\n",
    "# # It is not sure that I will use it in this analysis, but it might be useful in the future, \n",
    "# # if I pursue the analysis \n"
   ]
  },
  {
   "cell_type": "markdown",
   "metadata": {},
   "source": [
    "## How many Health-Based Drinking Water Violations Happen per Year?\n",
    "\n",
    "The dataset of violations contains 249535 observations, but the VIOLATION_ID contains only 145411 unique values. After inspection, I found that the reason is that the same violation can be present in several water systems (PWSID). I will look at the number of unique violations, thus look at how theses 145411 violations are distributed over the years in the dataset.  \n",
    "\n",
    "The dataset contains violations from year 1978 to 2018 (and a few in 2064, that I removed as they are probably an error). We observe that __the number of detected - and reported - violations increased greatly in recent years, particularly after 2008__. As from 2009, the number of violations observed per year varies between around 18'000 to 20'000.  \n",
    "\n",
    "The dataset contains very few violations detected before 2007. __This is more likely to reflect the introduction of new regulations than a real increase in the number of violations__. However, as the population of the US also increased in parallel (or new industries, or an increase of the use of hydraulic fracking, see [EPA's Study](https://cfpub.epa.gov/ncea/hfstudy/recordisplay.cfm?deid=332990)), it could be worth digging more into this question to try to disentangle the effects.   \n",
    "\n",
    "The drop in violations detection from 2016 to 2018 is probably due to the fact that not all analyses are finished or were entered in the system yet. Alternatively, it could also be due to the different priorities of the Trump administration regarding clean water (e.g. [suspension of the clean water rule](https://en.wikipedia.org/wiki/Clean_Water_Rule)). It is too early for me to conclude on that matter (witout contacting the EPA directly).    "
   ]
  },
  {
   "cell_type": "code",
   "execution_count": 11,
   "metadata": {},
   "outputs": [
    {
     "data": {
      "image/png": "[encoded data removed]",
      "text/plain": [
       "<Figure size 1008x432 with 1 Axes>"
      ]
     },
     "metadata": {
      "needs_background": "light"
     },
     "output_type": "display_data"
    }
   ],
   "source": [
    "# COMPL_PER_BEGIN_DATE: represents the beginning of a period of time when \n",
    "# a public water system was in violation of a primary drinking water regulation.\n",
    "# we convert the date to a datetime type, so it will be easier to work with:\n",
    "violations['COMPL_PER_BEGIN_DATE'] =  pd.to_datetime(violations['COMPL_PER_BEGIN_DATE']) \n",
    "# add a column with the year only (start year of the violation):\n",
    "violations['start_year'] = violations['COMPL_PER_BEGIN_DATE'].dt.year\n",
    "\n",
    "# the data contains some violations with start_year in the future (we have some in 2064)\n",
    "violations = violations.loc[violations['start_year'] <= 2018]\n",
    "\n",
    "# we are now interested only in the violations and the year when they occur. \n",
    "# so I will create a dataset with violations only (i do this because VIOLATION_ID are not unique)\n",
    "unique_violations = violations[['VIOLATION_ID', 'start_year']]\n",
    "\n",
    "# and then we group by year to count the violations:\n",
    "unique_violations_per_year = unique_violations.groupby(['start_year'], as_index=False).count()\n",
    "\n",
    "sns.set(style=\"ticks\", palette=\"colorblind\", font_scale=2) # set the style of plot I want. \n",
    "\n",
    "plt.figure(figsize=(14, 6))\n",
    "p = sns.lineplot(x=\"start_year\", y=\"VIOLATION_ID\",\n",
    "             marker=\"o\", markersize=12,\n",
    "             data=unique_violations_per_year)\n",
    "# p.add_legend(title=\"Meal\")\n",
    "p.set(xlabel='year of detection', ylabel='number of violations', \n",
    "      title = 'The Number of Reported Violations Greatly Increased after 2008')\n",
    "#      xticks=range(1978,2019,5))\n",
    "sns.despine()\n",
    "plt.show()\n"
   ]
  },
  {
   "cell_type": "markdown",
   "metadata": {},
   "source": [
    "## How many water system are affected by those violations?\n",
    "\n",
    "We saw that around 20'000 yearly drinking water violations were observed in the recent years, but how are those violations distributed over the water systems? Are those violations widespread or restricted to a few \"bad performing\" water systems? I will try to quantify the distribution of these violations among the water systems.  \n",
    "\n"
   ]
  },
  {
   "cell_type": "code",
   "execution_count": 200,
   "metadata": {},
   "outputs": [],
   "source": [
    "# for this, I need to read another table that stores all the water systems:\n",
    "\n",
    "# read the data from the REST API of EPA Envirofacts, for the water system table. - takes 5min.\n",
    "# CSV_URL = 'http://iaspub.epa.gov/enviro/efservice/WATER_SYSTEM/PWS_ACTIVITY_CODE/A/ROWS/0:150000/CSV'\n",
    "CSV_URL = 'http://iaspub.epa.gov/enviro/efservice/WATER_SYSTEM/ROWS/0:500000/CSV'\n",
    "\n",
    "# notes on the API:\n",
    "#     - WATER_SYSTEM = table\n",
    "#     - PWS_ACTIVITY_CODE/A ==> select only active water systems\n",
    "#     - ROWS/0:150000 ==> the default is to extract to first 10'000 rows. I want all rows, so i use a larger number\n",
    "\n",
    "with requests.Session() as s:\n",
    "    download = s.get(CSV_URL)\n",
    "    decoded_content = download.content.decode('utf-8')\n",
    "    cr = csv.reader(decoded_content.splitlines(), delimiter=',')\n",
    "    WATER_SYSTEM = list(cr)\n",
    "\n",
    "# create a data frame with the data:\n",
    "WATER_SYSTEM = pd.DataFrame(WATER_SYSTEM)\n",
    "new_header = WATER_SYSTEM.iloc[0] # grab the first row for the header\n",
    "new_header = new_header.str.split('.').str[1] # we remove the redundant table name (WATER_SYSTEM) in column names\n",
    "WATER_SYSTEM = WATER_SYSTEM[1:] # take the data less the header row\n",
    "WATER_SYSTEM.columns = new_header # set the header row as the df header\n",
    "\n",
    "# we remove the last column of null, that is an artifact of the extraction:\n",
    "WATER_SYSTEM = WATER_SYSTEM.dropna(axis = 1, how='all') # axis = 1 to specify that we talk about the columns\n",
    "# we note that 2 columns extracted are not in the EPA data dictionary: CITIES_SERVED, NPM_CANDIDATE ?\n"
   ]
  },
  {
   "cell_type": "code",
   "execution_count": 201,
   "metadata": {},
   "outputs": [
    {
     "name": "stdout",
     "output_type": "stream",
     "text": [
      "There are 422227 distinct water systems in the dataset.\n"
     ]
    }
   ],
   "source": [
    "# np.shape(WATER_SYSTEM)\n",
    "print(\"There are \" + str(len(WATER_SYSTEM['PWSID'])) + \" distinct water systems in the dataset.\")\n",
    "# print(len(set(WATER_SYSTEM['PWSID']))) PWSID is a unique ID\n"
   ]
  },
  {
   "cell_type": "markdown",
   "metadata": {},
   "source": [
    "Because the quantity of data about the violations varies over the years, I choose to focus on one single year. __I will continue the analysis with the last year were the data seems to be complete: 2016.__ I filter the water systems to take only those that were active in 2016. This leaves us with 153'584 water systems, in which 11'428 distinct health-based violations were observed.  "
   ]
  },
  {
   "cell_type": "code",
   "execution_count": 202,
   "metadata": {},
   "outputs": [
    {
     "name": "stdout",
     "output_type": "stream",
     "text": [
      "(14648, 35)\n"
     ]
    },
    {
     "data": {
      "text/plain": [
       "11428"
      ]
     },
     "execution_count": 202,
     "metadata": {},
     "output_type": "execute_result"
    }
   ],
   "source": [
    "# we create a dataframe with the violations observed in 2016:\n",
    "violations_2016 = violations[violations['start_year'] == 2016]\n",
    "print(np.shape(violations_2016)) # note: rows are not unique, several repeated VIOLATION_ID\n",
    "violations_2016.VIOLATION_ID.unique().shape[0] # number of distinct violations."
   ]
  },
  {
   "cell_type": "code",
   "execution_count": 203,
   "metadata": {},
   "outputs": [
    {
     "data": {
      "text/plain": [
       "(153584, 47)"
      ]
     },
     "execution_count": 203,
     "metadata": {},
     "output_type": "execute_result"
    }
   ],
   "source": [
    "# convert the deactivation date to datetime type, in oder to filter by date below:\n",
    "WATER_SYSTEM['PWS_DEACTIVATION_DATE'] = pd.to_datetime(WATER_SYSTEM['PWS_DEACTIVATION_DATE'])\n",
    "\n",
    "# we create a dataframe with all the water systems that are active (PWS_ACTIVITY_CODE == A),\n",
    "# or that where deactivated between 2016 and now.\n",
    "# (only the deactivated water systems get a deactivation date, the other don't.)\n",
    "ws_2016 = WATER_SYSTEM[(WATER_SYSTEM['PWS_ACTIVITY_CODE'] == 'A') | \n",
    "                       (WATER_SYSTEM['PWS_DEACTIVATION_DATE'] > '2016-12-31')]\n",
    "np.shape(ws_2016)"
   ]
  },
  {
   "cell_type": "code",
   "execution_count": 206,
   "metadata": {},
   "outputs": [],
   "source": [
    "# before joining the two datasets, I decide that I will keep only some of the variables.\n",
    "# this is not a necessity, but as I am only exploring and answering a few questions, \n",
    "# it is easier to 'see' the data:\n",
    "ws_2016 = ws_2016[['PWSID', 'PWS_NAME', 'STATE_CODE', 'COUNTIES_SERVED', 'CITIES_SERVED']]\n",
    "violations_2016 = violations_2016[['PWSID', 'VIOLATION_ID', 'POPULATION_SERVED_COUNT']]\n",
    "\n",
    "# we join the two datasets. As we want to see the distribution of all the 2016 violations in the water systems, \n",
    "# we want to keep all the violations in the joined data, so we do a left join (not inner)\n",
    "# (and thus, as we saw that one violation can concern several water systems, we keep all of those)\n",
    "ws_with_violations_in_2016 = pd.merge(violations_2016, ws_2016, how='left', on=['PWSID'])\n"
   ]
  },
  {
   "cell_type": "markdown",
   "metadata": {},
   "source": [
    "__Only 4% of the water system reported one or more health-based violation in 2016.__"
   ]
  },
  {
   "cell_type": "code",
   "execution_count": 207,
   "metadata": {
    "scrolled": true
   },
   "outputs": [
    {
     "name": "stdout",
     "output_type": "stream",
     "text": [
      "Out of the 153584 water systems active in 2016, in 6352 of them (4.1%), one or more health-based violation was reported.\n"
     ]
    }
   ],
   "source": [
    "n_active_ws_in_2016 = ws_2016.PWSID.unique().shape[0]\n",
    "n_ws_with_violation_in_2016 = ws_with_violations_in_2016.PWSID.unique().shape[0]\n",
    "percentage = n_ws_with_violation_in_2016 / n_active_ws_in_2016 * 100\n",
    "\n",
    "print('Out of the ' + \n",
    "      str(n_active_ws_in_2016) + \n",
    "      ' water systems active in 2016, in ' + \n",
    "      str(n_ws_with_violation_in_2016) +\n",
    "      ' of them (' +\n",
    "      str(round(percentage,1)) +\n",
    "     '%), one or more health-based violation was reported.')"
   ]
  },
  {
   "cell_type": "markdown",
   "metadata": {},
   "source": [
    "In the histogram below, we see the distribution of the number of violations by water system, in 2016."
   ]
  },
  {
   "cell_type": "code",
   "execution_count": 252,
   "metadata": {
    "scrolled": true
   },
   "outputs": [
    {
     "data": {
      "image/png": "[encoded data removed]",
      "text/plain": [
       "<Figure size 432x288 with 1 Axes>"
      ]
     },
     "metadata": {},
     "output_type": "display_data"
    }
   ],
   "source": [
    "count_viol = ws_with_violations_in_2016[['PWSID', 'VIOLATION_ID']] # simplify by keeping only what we need\n",
    "count_viol = count_viol.groupby('PWSID', as_index=False).count() # count the number of violations by water system\n",
    "count_viol.sort_values(by = 'VIOLATION_ID', ascending = False, inplace = True)\n",
    "\n",
    "\n",
    "p = sns.distplot(count_viol.VIOLATION_ID, color='red')\n",
    "p.set(xlabel='Count of 2016 violations per water system', ylabel='density', \n",
    "      title = 'Distribution of the number of violations by water system in 2016')\n",
    "p.set(ylim=(0, None)) # set the y axis to start at 0, to not give a false impression.\n",
    "\n",
    "sns.despine()\n",
    "\n",
    "plt.show()\n",
    "\n",
    "# note that 0 is not on the plot, as we have only the water system were a violation occured,\n",
    "# the plot is already sufficiently skewed.\n",
    "# note that it is not easy to see on the plot the bins were the count == 1.\n"
   ]
  },
  {
   "cell_type": "code",
   "execution_count": 210,
   "metadata": {},
   "outputs": [
    {
     "name": "stdout",
     "output_type": "stream",
     "text": [
      "The maximum number of violations in 2016 for one water system was 48. The majority (57%) of the water systems did only have one violation. The maximum number of violations observed for one system was 48. The mean of the distribution is 2.3, and the median 1.0.\n"
     ]
    }
   ],
   "source": [
    "min_ = str(count_viol.VIOLATION_ID.min())\n",
    "max_ = str(count_viol.VIOLATION_ID.max())\n",
    "mean_ = str(round(count_viol.VIOLATION_ID.mean(), 1))\n",
    "median_ = str(round(count_viol.VIOLATION_ID.median(), 1))\n",
    "perc_one = str(round(len(count_viol[count_viol['VIOLATION_ID'] == 1]) / len(count_viol.PWSID) * 100))\n",
    "\n",
    "print('The maximum number of violations in 2016 for one water system was ' +\n",
    "     max_ + \n",
    "     '. The majority (' +\n",
    "     perc_one +\n",
    "      '%) of the water systems did only have one violation. The maximum number of violations observed for one system was ' +\n",
    "      max_ +\n",
    "      '. The mean of the distribution is ' +\n",
    "      mean_ + \n",
    "      ', and the median ' +\n",
    "      median_ +\n",
    "      '.'\n",
    "     )"
   ]
  },
  {
   "cell_type": "markdown",
   "metadata": {},
   "source": [
    "## How many people are concernded by those violations?\n",
    "look at: POPULATION_SERVED_COUNT: Water system’s estimate of the number of people served by the system. ==> pop affected by the violations. "
   ]
  },
  {
   "cell_type": "code",
   "execution_count": null,
   "metadata": {},
   "outputs": [],
   "source": []
  },
  {
   "cell_type": "code",
   "execution_count": null,
   "metadata": {},
   "outputs": [],
   "source": []
  },
  {
   "cell_type": "code",
   "execution_count": null,
   "metadata": {},
   "outputs": [],
   "source": []
  },
  {
   "cell_type": "code",
   "execution_count": null,
   "metadata": {},
   "outputs": [],
   "source": []
  },
  {
   "cell_type": "code",
   "execution_count": null,
   "metadata": {},
   "outputs": [],
   "source": []
  },
  {
   "cell_type": "code",
   "execution_count": null,
   "metadata": {},
   "outputs": [],
   "source": []
  },
  {
   "cell_type": "code",
   "execution_count": null,
   "metadata": {},
   "outputs": [],
   "source": []
  },
  {
   "cell_type": "code",
   "execution_count": null,
   "metadata": {},
   "outputs": [],
   "source": []
  },
  {
   "cell_type": "markdown",
   "metadata": {},
   "source": [
    "## Future Analyses that Could Be Done\n",
    "[... develop more the following points: ...]\n",
    "* try a chloropeth map of the US? https://towardsdatascience.com/lets-make-a-map-using-geopandas-pandas-and-matplotlib-to-make-a-chloropleth-map-dddc31c1983d  \n",
    "* run a statistical - or litterature? - analysis to explain the increase of the number of violations and disentangle the different effects.\n",
    "* try to predict violations: which water system are more likely to be subject to a health-based violation? It would be valuable information for the EPA or the owners of the water systems.\n",
    "* link the dataset with other datesets. For instance one could link this data to weather datasets (we have the coordinates of the water systems) to assess the influence of the weather on the occurrences of violations (and potentially improve the predictions).  ==> noaa.gov\n"
   ]
  },
  {
   "cell_type": "code",
   "execution_count": null,
   "metadata": {},
   "outputs": [],
   "source": []
  },
  {
   "cell_type": "code",
   "execution_count": null,
   "metadata": {},
   "outputs": [],
   "source": []
  }
 ],
 "metadata": {
  "kernelspec": {
   "display_name": "Python 3",
   "language": "python",
   "name": "python3"
  },
  "language_info": {
   "codemirror_mode": {
    "name": "ipython",
    "version": 3
   },
   "file_extension": ".py",
   "mimetype": "text/x-python",
   "name": "python",
   "nbconvert_exporter": "python",
   "pygments_lexer": "ipython3",
   "version": "3.7.2"
  }
 },
 "nbformat": 4,
 "nbformat_minor": 2
}
